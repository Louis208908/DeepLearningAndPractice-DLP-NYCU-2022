{
 "cells": [
  {
   "cell_type": "code",
   "execution_count": 1,
   "metadata": {},
   "outputs": [],
   "source": [
    "import numpy as np\n",
    "import util\n",
    "import NN\n",
    "np.random.seed(5)"
   ]
  },
  {
   "cell_type": "code",
   "execution_count": 2,
   "metadata": {},
   "outputs": [
    {
     "name": "stdout",
     "output_type": "stream",
     "text": [
      "epoch: 100, loss: 0.19662870389120002, accuracy: 0.7142857142857143\n",
      "epoch: 200, loss: 0.09419592067793363, accuracy: 0.9047619047619048\n",
      "epoch: 300, loss: 0.07929445500614223, accuracy: 0.9047619047619048\n",
      "epoch: 400, loss: 0.059766306196265606, accuracy: 0.9523809523809523\n",
      "epoch: 500, loss: 0.04519161549304437, accuracy: 0.9523809523809523\n",
      "epoch: 600, loss: 0.038701677305935586, accuracy: 0.9523809523809523\n",
      "epoch: 700, loss: 0.033942945866833135, accuracy: 0.9523809523809523\n",
      "epoch: 800, loss: 0.03032129490456516, accuracy: 1.0\n",
      "epoch: 900, loss: 0.027307267107561446, accuracy: 1.0\n",
      "epoch: 1000, loss: 0.02469947374651763, accuracy: 1.0\n"
     ]
    }
   ],
   "source": [
    "EPOCHS = 1000\n",
    "\n",
    "x, y = util.generate_XOR_easy()\n",
    "layers = [\n",
    "    NN.FC_layer(2, 32, True),\n",
    "    NN.relu(),\n",
    "    NN.FC_layer(32, 32, True),\n",
    "    NN.relu(),\n",
    "    NN.FC_layer(32, 1, True),\n",
    "    NN.sigmoid()\n",
    "]\n",
    "DNN = NN.myNN(layers)\n",
    "loss = NN.MSE()\n",
    "#opti = NN.optimizer('SGD', 0.01)\n",
    "#opti = NN.optimizer('momentum', 0.01, {'beta' : 0.9})\n",
    "#opti = NN.optimizer('adagrad', 0.001, {'epsilon' : 1e-8})\n",
    "opti = NN.optimizer('adam', 0.001, {'epsilon':1e-8, 'beta1':0.9, 'beta2':0.999})\n",
    "\n",
    "for epoch in range(1, EPOCHS+1):\n",
    "    y_pred = DNN.forward(x)\n",
    "    loss_value = loss.forward(y, y_pred)\n",
    "\n",
    "    dy = loss.backward(y, y_pred)\n",
    "    DNN.backward(dy, opti)\n",
    "\n",
    "    if epoch % 100 == 0:\n",
    "        accuracy = util.accuracy(y, y_pred)\n",
    "        print(f'epoch: {epoch}, loss: {loss_value}, accuracy: {accuracy}')\n"
   ]
  },
  {
   "cell_type": "code",
   "execution_count": 3,
   "metadata": {},
   "outputs": [
    {
     "data": {
      "image/png": "[encoded data removed]",
      "text/plain": [
       "<Figure size 432x288 with 2 Axes>"
      ]
     },
     "metadata": {
      "needs_background": "light"
     },
     "output_type": "display_data"
    }
   ],
   "source": [
    "y_pred = np.around(y_pred)\n",
    "util.show_result(x, y, y_pred)"
   ]
  }
 ],
 "metadata": {
  "kernelspec": {
   "display_name": "Python 3",
   "language": "python",
   "name": "python3"
  },
  "language_info": {
   "codemirror_mode": {
    "name": "ipython",
    "version": 3
   },
   "file_extension": ".py",
   "mimetype": "text/x-python",
   "name": "python",
   "nbconvert_exporter": "python",
   "pygments_lexer": "ipython3",
   "version": "3.8.3"
  }
 },
 "nbformat": 4,
 "nbformat_minor": 4
}
