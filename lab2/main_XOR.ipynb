{
 "cells": [
  {
   "cell_type": "code",
   "execution_count": 1,
   "metadata": {},
   "outputs": [],
   "source": [
    "import numpy as np\n",
    "import util\n",
    "import NN\n",
    "\n",
    "import matplotlib.pyplot as plt\n",
    "np.random.seed(5)"
   ]
  },
  {
   "cell_type": "code",
   "execution_count": 2,
   "metadata": {},
   "outputs": [
    {
     "name": "stdout",
     "output_type": "stream",
     "text": [
      "epoch: 20, loss: 0.28703047719522484, accuracy: 0.7142857142857143\n",
      "epoch: 40, loss: 0.25039310344977633, accuracy: 0.7142857142857143\n",
      "epoch: 60, loss: 0.22049823394784243, accuracy: 0.6666666666666666\n",
      "epoch: 80, loss: 0.17172219046718032, accuracy: 0.7619047619047619\n",
      "epoch: 100, loss: 0.11127298602019563, accuracy: 0.8571428571428571\n",
      "epoch: 120, loss: 0.08230977034605642, accuracy: 0.9047619047619048\n",
      "epoch: 140, loss: 0.06760410065955297, accuracy: 0.9047619047619048\n",
      "epoch: 160, loss: 0.05689523015120254, accuracy: 0.9047619047619048\n",
      "epoch: 180, loss: 0.04961908250961705, accuracy: 0.9523809523809523\n",
      "epoch: 200, loss: 0.04442073458690323, accuracy: 0.9523809523809523\n",
      "epoch: 220, loss: 0.04038840225930681, accuracy: 1.0\n",
      "epoch: 240, loss: 0.03664360813310591, accuracy: 1.0\n",
      "epoch: 260, loss: 0.03272180838397425, accuracy: 1.0\n",
      "epoch: 280, loss: 0.029311259781171814, accuracy: 1.0\n",
      "epoch: 300, loss: 0.027239467370927854, accuracy: 1.0\n",
      "epoch: 320, loss: 0.025482810719747784, accuracy: 1.0\n",
      "epoch: 340, loss: 0.023976118406996344, accuracy: 1.0\n",
      "epoch: 360, loss: 0.022684001098458757, accuracy: 1.0\n",
      "epoch: 380, loss: 0.0215367893349351, accuracy: 1.0\n",
      "epoch: 400, loss: 0.020503785050077057, accuracy: 1.0\n",
      "epoch: 420, loss: 0.01956136104458229, accuracy: 1.0\n",
      "epoch: 440, loss: 0.018700659235100513, accuracy: 1.0\n",
      "epoch: 460, loss: 0.017901165859683123, accuracy: 1.0\n",
      "epoch: 480, loss: 0.017157675094803166, accuracy: 1.0\n",
      "epoch: 500, loss: 0.016461554308086, accuracy: 1.0\n",
      "epoch: 520, loss: 0.01582082963892401, accuracy: 1.0\n",
      "epoch: 540, loss: 0.015220678790931252, accuracy: 1.0\n",
      "epoch: 560, loss: 0.0146560244367879, accuracy: 1.0\n",
      "epoch: 580, loss: 0.014108973331337633, accuracy: 1.0\n",
      "epoch: 600, loss: 0.013605409423906882, accuracy: 1.0\n",
      "epoch: 620, loss: 0.013119734213957176, accuracy: 1.0\n",
      "epoch: 640, loss: 0.012662136315087832, accuracy: 1.0\n",
      "epoch: 660, loss: 0.012224830632663494, accuracy: 1.0\n",
      "epoch: 680, loss: 0.011806959609087243, accuracy: 1.0\n",
      "epoch: 700, loss: 0.011407252587666597, accuracy: 1.0\n",
      "epoch: 720, loss: 0.011007674561162398, accuracy: 1.0\n",
      "epoch: 740, loss: 0.010604531963457023, accuracy: 1.0\n",
      "epoch: 760, loss: 0.010217560556218017, accuracy: 1.0\n",
      "epoch: 780, loss: 0.009848318324484722, accuracy: 1.0\n",
      "epoch: 800, loss: 0.009501493774404636, accuracy: 1.0\n",
      "epoch: 820, loss: 0.009175470798470772, accuracy: 1.0\n",
      "epoch: 840, loss: 0.008868565390624833, accuracy: 1.0\n",
      "epoch: 860, loss: 0.008570391906934403, accuracy: 1.0\n",
      "epoch: 880, loss: 0.008295340339613086, accuracy: 1.0\n",
      "epoch: 900, loss: 0.008030376619859588, accuracy: 1.0\n",
      "epoch: 920, loss: 0.007780916078787652, accuracy: 1.0\n",
      "epoch: 940, loss: 0.007546477383151557, accuracy: 1.0\n",
      "epoch: 960, loss: 0.007317864658529365, accuracy: 1.0\n",
      "epoch: 980, loss: 0.0070974090669083745, accuracy: 1.0\n",
      "epoch: 1000, loss: 0.006883377205496103, accuracy: 1.0\n"
     ]
    }
   ],
   "source": [
    "EPOCHS = 1000\n",
    "\n",
    "x, y = util.generate_XOR_easy()\n",
    "layers = [\n",
    "    NN.FC_layer(2, 32, True),\n",
    "    NN.relu(),\n",
    "    NN.FC_layer(32, 32, True),\n",
    "    NN.relu(),\n",
    "    NN.FC_layer(32, 1, True),\n",
    "    NN.sigmoid()\n",
    "]\n",
    "DNN = NN.myNN(layers)\n",
    "loss = NN.MSE()\n",
    "#opti = NN.optimizer('SGD', 0.01)\n",
    "#opti = NN.optimizer('momentum', 0.01, {'beta' : 0.9})\n",
    "#opti = NN.optimizer('adagrad', 0.001, {'epsilon' : 1e-8})\n",
    "opti = NN.optimizer('adam', 0.001, {'epsilon':1e-8, 'beta1':0.9, 'beta2':0.999})\n",
    "losses = []\n",
    "\n",
    "for epoch in range(1, EPOCHS+1):\n",
    "    y_pred = DNN.forward(x)\n",
    "    loss_value = loss.forward(y, y_pred)\n",
    "    losses.append(loss_value)\n",
    "\n",
    "    dy = loss.backward(y, y_pred)\n",
    "    DNN.backward(dy, opti)\n",
    "\n",
    "    if epoch % 20 == 0:\n",
    "        accuracy = util.accuracy(y, y_pred)\n",
    "        print(f'epoch: {epoch}, loss: {loss_value}, accuracy: {accuracy}')\n"
   ]
  },
  {
   "cell_type": "code",
   "execution_count": 3,
   "metadata": {},
   "outputs": [
    {
     "name": "stdout",
     "output_type": "stream",
     "text": [
      "[[0.01973384]\n",
      " [0.99999768]\n",
      " [0.02910483]\n",
      " [0.99995423]\n",
      " [0.03735223]\n",
      " [0.9991736 ]\n",
      " [0.06096234]\n",
      " [0.9856967 ]\n",
      " [0.10603219]\n",
      " [0.80138204]\n",
      " [0.16922628]\n",
      " [0.12033138]\n",
      " [0.8126978 ]\n",
      " [0.07414631]\n",
      " [0.98438331]\n",
      " [0.04488514]\n",
      " [0.99608391]\n",
      " [0.02775896]\n",
      " [0.99842773]\n",
      " [0.02369401]\n",
      " [0.99942711]]\n"
     ]
    },
    {
     "data": {
      "image/png": "[encoded data removed]",
      "text/plain": [
       "<Figure size 432x288 with 2 Axes>"
      ]
     },
     "metadata": {
      "needs_background": "light"
     },
     "output_type": "display_data"
    },
    {
     "data": {
      "image/png": "[encoded data removed]",
      "text/plain": [
       "<Figure size 432x288 with 1 Axes>"
      ]
     },
     "metadata": {
      "needs_background": "light"
     },
     "output_type": "display_data"
    }
   ],
   "source": [
    "print(y_pred)\n",
    "y_pred = np.around(y_pred)\n",
    "util.show_result(x, y, y_pred)\n",
    "plt.xlabel('Epochs')\n",
    "plt.ylabel('Losses')\n",
    "plt.plot(losses[0:50])\n",
    "plt.show()\n"
   ]
  }
 ],
 "metadata": {
  "kernelspec": {
   "display_name": "Python 3",
   "language": "python",
   "name": "python3"
  },
  "language_info": {
   "codemirror_mode": {
    "name": "ipython",
    "version": 3
   },
   "file_extension": ".py",
   "mimetype": "text/x-python",
   "name": "python",
   "nbconvert_exporter": "python",
   "pygments_lexer": "ipython3",
   "version": "3.8.3"
  }
 },
 "nbformat": 4,
 "nbformat_minor": 4
}
